{
 "cells": [
  {
   "cell_type": "code",
   "execution_count": 1,
   "id": "72120bcd",
   "metadata": {},
   "outputs": [],
   "source": [
    "import pandas as pd\n",
    "import numpy as np\n",
    "import matplotlib.pyplot as plt\n",
    "import seaborn as sns"
   ]
  },
  {
   "cell_type": "code",
   "execution_count": 38,
   "id": "c5edf875",
   "metadata": {},
   "outputs": [],
   "source": [
    "measure_x=pd.Series([24.23,25.53,25.41,24.14,29.62,28.25,25.81,24.39,40.26,32.95,91.36,25.99,39.42,26.71,35.00])"
   ]
  },
  {
   "cell_type": "code",
   "execution_count": 39,
   "id": "e7a78da6",
   "metadata": {},
   "outputs": [],
   "source": [
    "name_of_the_company=['AlliedSignal','BankersTrust','GeneralMills','ITTIndustries','J.P.Morgan&Co','LehmanBrothers','Marriott','MCI',\n",
    "             'MerrillLynch','Microsoft','MorganStanley','SunMicrosystems','Travelers','USAirways','Warner-Lambert']\n"
   ]
  },
  {
   "cell_type": "code",
   "execution_count": 40,
   "id": "75d2fbb4",
   "metadata": {},
   "outputs": [
    {
     "data": {
      "text/plain": [
       "33.27133333333333"
      ]
     },
     "execution_count": 40,
     "metadata": {},
     "output_type": "execute_result"
    }
   ],
   "source": [
    "measure_x.mean()"
   ]
  },
  {
   "cell_type": "code",
   "execution_count": 41,
   "id": "7b8d05dd",
   "metadata": {},
   "outputs": [
    {
     "data": {
      "text/plain": [
       "count    15.000000\n",
       "mean     33.271333\n",
       "std      16.945401\n",
       "min      24.140000\n",
       "25%      25.470000\n",
       "50%      26.710000\n",
       "75%      33.975000\n",
       "max      91.360000\n",
       "dtype: float64"
      ]
     },
     "execution_count": 41,
     "metadata": {},
     "output_type": "execute_result"
    }
   ],
   "source": [
    "measure_x.describe()"
   ]
  },
  {
   "cell_type": "code",
   "execution_count": 42,
   "id": "07f8bff8",
   "metadata": {},
   "outputs": [
    {
     "data": {
      "text/plain": [
       "26.71"
      ]
     },
     "execution_count": 42,
     "metadata": {},
     "output_type": "execute_result"
    }
   ],
   "source": [
    "measure_x.median()"
   ]
  },
  {
   "cell_type": "code",
   "execution_count": 44,
   "id": "70ef3fa8",
   "metadata": {},
   "outputs": [
    {
     "data": {
      "text/plain": [
       "287.147"
      ]
     },
     "execution_count": 44,
     "metadata": {},
     "output_type": "execute_result"
    }
   ],
   "source": [
    "np.round(measure_x.var(),3)"
   ]
  },
  {
   "cell_type": "code",
   "execution_count": 48,
   "id": "4e9da375",
   "metadata": {},
   "outputs": [
    {
     "name": "stderr",
     "output_type": "stream",
     "text": [
      "C:\\Users\\DELL\\anaconda3\\lib\\site-packages\\seaborn\\_decorators.py:36: FutureWarning: Pass the following variable as a keyword arg: x. From version 0.12, the only valid positional argument will be `data`, and passing other arguments without an explicit keyword will result in an error or misinterpretation.\n",
      "  warnings.warn(\n"
     ]
    },
    {
     "data": {
      "text/plain": [
       "<AxesSubplot:>"
      ]
     },
     "execution_count": 48,
     "metadata": {},
     "output_type": "execute_result"
    },
    {
     "data": {
      "image/png": "[encoded data removed]",
      "text/plain": [
       "<Figure size 432x288 with 1 Axes>"
      ]
     },
     "metadata": {
      "needs_background": "light"
     },
     "output_type": "display_data"
    }
   ],
   "source": [
    "sns.boxplot(measure_x)"
   ]
  },
  {
   "cell_type": "code",
   "execution_count": 47,
   "id": "56e7a26e",
   "metadata": {},
   "outputs": [
    {
     "data": {
      "text/plain": [
       "287.1466123809524"
      ]
     },
     "execution_count": 47,
     "metadata": {},
     "output_type": "execute_result"
    }
   ],
   "source": [
    "measure_x.var()"
   ]
  },
  {
   "cell_type": "code",
   "execution_count": 50,
   "id": "138d4eb7",
   "metadata": {},
   "outputs": [
    {
     "name": "stdout",
     "output_type": "stream",
     "text": [
      "8.505000000000003 46.7325 12.712499999999995\n"
     ]
    }
   ],
   "source": [
    "q1 = np.quantile(measure_x, 0.25)\n",
    "\n",
    "# finding the 3rd quartile\n",
    "q3 = np.quantile(measure_x, 0.75)\n",
    "med = np.median(measure_x)\n",
    "\n",
    "# finding the iqr region\n",
    "iqr = q3-q1\n",
    "\n",
    "# finding upper and lower whiskers\n",
    "upper_bound = q3+(1.5*iqr)\n",
    "lower_bound = q1-(1.5*iqr)\n",
    "print(iqr, upper_bound, lower_bound)"
   ]
  },
  {
   "cell_type": "code",
   "execution_count": 51,
   "id": "4f6cfa1f",
   "metadata": {},
   "outputs": [],
   "source": [
    "#range 8.500, upper bound= 46.7, lowerbound=12.71"
   ]
  },
  {
   "cell_type": "code",
   "execution_count": 55,
   "id": "ee50f367",
   "metadata": {},
   "outputs": [
    {
     "name": "stdout",
     "output_type": "stream",
     "text": [
      "First Quantile= 25.47 Second Quantile= 26.71 Third Quantile= 33.975 Inter-Quartile Range= 8.505000000000003 Upper Whisker= 46.7325 Lower Whisker= 12.712499999999995\n",
      "The outlier in the boxplot: 10    91.36\n",
      "dtype: float64\n",
      "The outlier in the boxplot: 10    91.36\n",
      "dtype: float64\n"
     ]
    }
   ],
   "source": [
    "print('First Quantile=', q1, 'Second Quantile=', med, 'Third Quantile=', q3,\n",
    "      'Inter-Quartile Range=', iqr, 'Upper Whisker=', upper_bound, 'Lower Whisker=', lower_bound)\n",
    "Outliers = measure_x[(measure_x <= lower_bound) | (measure_x >= upper_bound)]\n",
    "print('The outlier in the boxplot:',Outliers)\n",
    "Outliers = measure_x[(measure_x >= upper_bound)]\n",
    "print('The outlier in the boxplot:',Outliers)\n",
    "\n"
   ]
  },
  {
   "cell_type": "code",
   "execution_count": 56,
   "id": "e30bec9a",
   "metadata": {},
   "outputs": [
    {
     "name": "stdout",
     "output_type": "stream",
     "text": [
      "8.505000000000003 46.7325 12.712499999999995\n"
     ]
    }
   ],
   "source": [
    "q1 = np.quantile(df, 0.25)\n",
    "\n",
    "# finding the 3rd quartile\n",
    "q3 = np.quantile(df, 0.75)\n",
    "med = np.median(df)\n",
    "\n",
    "# finding the iqr region\n",
    "iqr = q3-q1\n",
    "\n",
    "# finding upper and lower whiskers\n",
    "upper_bound = q3+(1.5*iqr)\n",
    "lower_bound = q1-(1.5*iqr)\n",
    "print(iqr, upper_bound, lower_bound)"
   ]
  },
  {
   "cell_type": "code",
   "execution_count": null,
   "id": "fab2df86",
   "metadata": {},
   "outputs": [],
   "source": []
  }
 ],
 "metadata": {
  "kernelspec": {
   "display_name": "Python 3",
   "language": "python",
   "name": "python3"
  },
  "language_info": {
   "codemirror_mode": {
    "name": "ipython",
    "version": 3
   },
   "file_extension": ".py",
   "mimetype": "text/x-python",
   "name": "python",
   "nbconvert_exporter": "python",
   "pygments_lexer": "ipython3",
   "version": "3.8.8"
  }
 },
 "nbformat": 4,
 "nbformat_minor": 5
}
